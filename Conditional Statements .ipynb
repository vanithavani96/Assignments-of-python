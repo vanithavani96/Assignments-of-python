{
 "cells": [
  {
   "cell_type": "markdown",
   "id": "98c1ce24",
   "metadata": {},
   "source": [
    "#### 1.Write a program to check whether a given number is even or odd"
   ]
  },
  {
   "cell_type": "code",
   "execution_count": 1,
   "id": "2d6f30b4",
   "metadata": {},
   "outputs": [
    {
     "name": "stdout",
     "output_type": "stream",
     "text": [
      "enter the number:2\n",
      "it is an even number\n"
     ]
    }
   ],
   "source": [
    "n=int(input(\"enter the number:\"))\n",
    "if n%2==0:\n",
    "    print(\"it is an even number\")\n",
    "else:\n",
    "    print(\"it is an odd number\")"
   ]
  },
  {
   "cell_type": "markdown",
   "id": "ef1dc9c5",
   "metadata": {},
   "source": [
    "#### 2.Write a program to check whether a given alphabet is vowel or not."
   ]
  },
  {
   "cell_type": "code",
   "execution_count": 1,
   "id": "a0b503f6",
   "metadata": {},
   "outputs": [
    {
     "name": "stdout",
     "output_type": "stream",
     "text": [
      "enter the value:e\n",
      "it is a vowel\n"
     ]
    }
   ],
   "source": [
    "x=str(input(\"enter the value:\"))\n",
    "if x=='a' or x=='e' or x=='i' or x=='o' or x=='u':\n",
    "    print(\"it is a vowel\")\n",
    "else:\n",
    "    print(\"it is consonant\")"
   ]
  },
  {
   "cell_type": "markdown",
   "id": "b64ebbc9",
   "metadata": {},
   "source": [
    "#### 3.Write a program to check whether a person is eligible to vote or not."
   ]
  },
  {
   "cell_type": "code",
   "execution_count": 1,
   "id": "5215bc19",
   "metadata": {},
   "outputs": [
    {
     "name": "stdout",
     "output_type": "stream",
     "text": [
      "Enter the person's age:25\n",
      "Eligible to vote\n"
     ]
    }
   ],
   "source": [
    "age=int(input(\"Enter the person's age:\"))\n",
    "if age>=18:\n",
    "    print(\"Eligible to vote\")\n",
    "else:\n",
    "    print(\"Not eligible\")"
   ]
  },
  {
   "cell_type": "markdown",
   "id": "1ce89470",
   "metadata": {},
   "source": [
    "#### 4.Write a program to check whether a given number is positive, negative or zero."
   ]
  },
  {
   "cell_type": "code",
   "execution_count": 8,
   "id": "40195e36",
   "metadata": {},
   "outputs": [
    {
     "name": "stdout",
     "output_type": "stream",
     "text": [
      "enter the number:-5\n",
      "the number is negative\n"
     ]
    }
   ],
   "source": [
    "n=int(input(\"Enter the number:\"))\n",
    "if n>0:\n",
    "    print(\"The number is positive\")\n",
    "elif n==0:\n",
    "    print(\"The number is zero\")\n",
    "else:\n",
    "    print(\"The number is negative\")\n"
   ]
  },
  {
   "cell_type": "markdown",
   "id": "84f01a4e",
   "metadata": {},
   "source": [
    "#### 5.Write a program to check whether a given year is leap year or not."
   ]
  },
  {
   "cell_type": "code",
   "execution_count": 1,
   "id": "9a17dcf8",
   "metadata": {},
   "outputs": [
    {
     "name": "stdout",
     "output_type": "stream",
     "text": [
      "Enter the year2010\n",
      "Not a leap year\n"
     ]
    }
   ],
   "source": [
    "year=int(input(\"Enter the year\"))\n",
    "if year%400==0 or year%100!=0 and year%4==0:\n",
    "    print(\"It is a leap year\")\n",
    "else:\n",
    "    print(\"Not a leap year\")"
   ]
  },
  {
   "cell_type": "markdown",
   "id": "71f3155b",
   "metadata": {},
   "source": [
    "#### 6. write a program to check whether a triangle is equilateral, isoceles or scalene. "
   ]
  },
  {
   "cell_type": "code",
   "execution_count": 8,
   "id": "cab445c4",
   "metadata": {},
   "outputs": [
    {
     "name": "stdout",
     "output_type": "stream",
     "text": [
      "Enter a number:2\n",
      "Enter a number:3\n",
      "Enter a number:4\n",
      "scalene triangle\n"
     ]
    }
   ],
   "source": [
    "x=int(input(\"Enter a number:\"))\n",
    "y=int(input(\"Enter a number:\"))\n",
    "z=int(input(\"Enter a number:\"))\n",
    "if x==y and y==z and x==z:\n",
    "    print(\"Equilateral triangle\")\n",
    "elif (x==y or y==z and x==z):\n",
    "     print(\"isoceles triangle\")\n",
    "else:\n",
    "     print(\"scalene triangle\")"
   ]
  },
  {
   "cell_type": "markdown",
   "id": "09bc34d1",
   "metadata": {},
   "source": [
    "#### 7.Write a program to check whether after selling a product is profit or loss."
   ]
  },
  {
   "cell_type": "code",
   "execution_count": 1,
   "id": "939cb75e",
   "metadata": {},
   "outputs": [
    {
     "name": "stdout",
     "output_type": "stream",
     "text": [
      "enter the actual amount1600\n",
      "enter the selling amount2000\n",
      "Total profit amount=400.0\n"
     ]
    }
   ],
   "source": [
    "original_price=float(input(\"enter the actual amount\"))\n",
    "selling_price=float(input(\"enter the selling amount\"))\n",
    "if original_price-selling_price>0:\n",
    "    amount=original_price-selling_price\n",
    "    print(\"Total loss amount={0}\".format(amount))\n",
    "elif selling_price-original_price>0:\n",
    "    amount=selling_price-original_price\n",
    "    print(\"Total profit amount={0}\".format(amount))\n",
    "else:\n",
    "    print(\"no profit, no loss\")\n",
    "  "
   ]
  },
  {
   "cell_type": "markdown",
   "id": "e21b2f9e",
   "metadata": {},
   "source": [
    "#### 8.Write a program to enter two numbers and print the greatest number. "
   ]
  },
  {
   "cell_type": "code",
   "execution_count": 5,
   "id": "b8889fba",
   "metadata": {},
   "outputs": [
    {
     "name": "stdout",
     "output_type": "stream",
     "text": [
      "enter the num10\n",
      "enter the num15\n",
      "The greatest number is: 15\n"
     ]
    }
   ],
   "source": [
    "x=int(input(\"enter the num\"))\n",
    "y=int(input(\"enter the num\"))\n",
    "if x>y:\n",
    "    print(\"The greatest number is:\",x)\n",
    "elif y>x:\n",
    "    print(\"The greatest number is:\",y)"
   ]
  },
  {
   "cell_type": "markdown",
   "id": "7624295a",
   "metadata": {},
   "source": [
    "#### 9.Write a program to enter two numbers and print the smallest number."
   ]
  },
  {
   "cell_type": "code",
   "execution_count": 6,
   "id": "3bd9ab89",
   "metadata": {},
   "outputs": [
    {
     "name": "stdout",
     "output_type": "stream",
     "text": [
      "enter the number10\n",
      "enter the number15\n",
      "The smallest number is: 10\n"
     ]
    }
   ],
   "source": [
    "x=int(input(\"enter the number\"))\n",
    "y=int(input(\"enter the number\"))\n",
    "if x<y:\n",
    "    print(\"The smallest number is:\",x)\n",
    "elif y<x:\n",
    "    print(\"The smallest number is:\",y)\n"
   ]
  },
  {
   "cell_type": "markdown",
   "id": "4ddca17f",
   "metadata": {},
   "source": [
    "#### 10.Write a program to enter two numbers and print the greatest number. "
   ]
  },
  {
   "cell_type": "code",
   "execution_count": 3,
   "id": "72abb34c",
   "metadata": {},
   "outputs": [
    {
     "name": "stdout",
     "output_type": "stream",
     "text": [
      "enter the num6\n",
      "enter the num5\n",
      "enter the num2\n",
      "The greatest number is: 6\n"
     ]
    }
   ],
   "source": [
    "x=int(input(\"enter the num\"))\n",
    "y=int(input(\"enter the num\"))\n",
    "z=int(input(\"enter the num\"))\n",
    "if x>y and x>z:\n",
    "    print(\"The greatest number is:\",x)\n",
    "elif y>x and y>z:\n",
    "    print(\"The greatest number is:\",y)\n",
    "elif z>y and z>x:\n",
    "    print(\"The greatest number is:\",z)"
   ]
  },
  {
   "cell_type": "markdown",
   "id": "1bccf83e",
   "metadata": {},
   "source": [
    "#### 11.Write a program to enter two numbers and print the smallest number."
   ]
  },
  {
   "cell_type": "code",
   "execution_count": 4,
   "id": "84ca3ecd",
   "metadata": {},
   "outputs": [
    {
     "name": "stdout",
     "output_type": "stream",
     "text": [
      "enter the num1\n",
      "enter the num2\n",
      "enter the num3\n",
      "The smllest number is: 1\n"
     ]
    }
   ],
   "source": [
    "x=int(input(\"enter the num\"))\n",
    "y=int(input(\"enter the num\"))\n",
    "z=int(input(\"enter the num\"))\n",
    "if x<y and x<z:\n",
    "    print(\"The smllest number is:\",x)\n",
    "elif y<x and y<z:\n",
    "    print(\"The smallest number is:\",y)\n",
    "elif z<y and z<x:\n",
    "    print(\"The smallest number is:\",z)"
   ]
  },
  {
   "cell_type": "markdown",
   "id": "d9c5eca5",
   "metadata": {},
   "source": [
    "#### 12.Write a program to calculate the roots of a quadratic equation."
   ]
  },
  {
   "cell_type": "code",
   "execution_count": 8,
   "id": "b6198923",
   "metadata": {},
   "outputs": [
    {
     "name": "stdout",
     "output_type": "stream",
     "text": [
      "Enter a5\n",
      "Enter b8\n",
      "Enter c3\n",
      "The solution are (-1+0j) and (-0.6+0j)\n"
     ]
    }
   ],
   "source": [
    "import cmath\n",
    "a=float(input(\"Enter a\"))\n",
    "b=float(input(\"Enter b\"))\n",
    "c=float(input(\"Enter c\"))\n",
    "d= (b**2)-(4*a*c)\n",
    "x=(-b-cmath.sqrt(d))/(2*a)\n",
    "y=(-b+cmath.sqrt(d))/(2*a)\n",
    "print('The solution are {0} and {1}'.format(x,y))"
   ]
  },
  {
   "cell_type": "markdown",
   "id": "32350af4",
   "metadata": {},
   "source": [
    "#### 13.Write a program to enter a number between (1-7) and print the respective day of the week."
   ]
  },
  {
   "cell_type": "code",
   "execution_count": 1,
   "id": "5b5b1e7f",
   "metadata": {},
   "outputs": [
    {
     "name": "stdout",
     "output_type": "stream",
     "text": [
      "Enter a number between 1-7:6\n",
      "Saturday\n"
     ]
    }
   ],
   "source": [
    "day=int(input(\"Enter a number between 1-7:\"))\n",
    "\n",
    "if day==1:\n",
    "    print(\"Monday\")\n",
    "elif day==2:\n",
    "    print(\"Tuesday\")\n",
    "elif day==3:\n",
    "    print(\"Wednesday\")\n",
    "elif day==4:\n",
    "    print(\"Thursday\")\n",
    "elif day==5:\n",
    "    print(\"Friday\")\n",
    "elif day==6:\n",
    "    print(\"Saturday\")\n",
    "else:\n",
    "    print(\"Sunday\")"
   ]
  },
  {
   "cell_type": "markdown",
   "id": "d7b51a4e",
   "metadata": {},
   "source": [
    "#### 14.Write a program to enter a number between (1-12) and print the respective month"
   ]
  },
  {
   "cell_type": "code",
   "execution_count": 5,
   "id": "37aefbf7",
   "metadata": {},
   "outputs": [
    {
     "name": "stdout",
     "output_type": "stream",
     "text": [
      "Enter a number between 1-12:12\n",
      "December\n"
     ]
    }
   ],
   "source": [
    "month=int(input(\"Enter a number between 1-12:\"))\n",
    "if month==1:\n",
    "    print(\"January\")\n",
    "elif month==2:\n",
    "    print(\"February\")\n",
    "elif month==3:\n",
    "    print(\"March\")\n",
    "elif month==4:\n",
    "    print(\"April\")\n",
    "elif month==5:\n",
    "    print(\"May\")\n",
    "elif month==6:\n",
    "    print(\"June\")\n",
    "elif month==7:\n",
    "    print(\"July\")\n",
    "elif month==8:\n",
    "    print(\"August\")\n",
    "elif month==9:\n",
    "    print(\"September\")\n",
    "elif month==10:\n",
    "    print(\"October\")\n",
    "elif month==11:\n",
    "    print(\"November\")\n",
    "elif month==12:\n",
    "    print(\"December\")\n",
    "else:\n",
    "    print(\"Sorry\")"
   ]
  },
  {
   "cell_type": "markdown",
   "id": "32d5bf69",
   "metadata": {},
   "source": [
    "# 15.Write down a program to enter a number between (1-4) and perform the following operations.\n",
    "*Addition\n",
    "\n",
    "*Subtraction\n",
    "\n",
    "*Multiplication\n",
    "\n",
    "*Division"
   ]
  },
  {
   "cell_type": "code",
   "execution_count": 3,
   "id": "1d5bc05c",
   "metadata": {},
   "outputs": [
    {
     "name": "stdout",
     "output_type": "stream",
     "text": [
      "enter a number between(1-4):3\n",
      "Enter a number5\n",
      "Enter a number3\n",
      "mul: 15\n"
     ]
    }
   ],
   "source": [
    "calc=int(input(\"enter a number between(1-4):\"))\n",
    "a=int(input(\"Enter a number\"))\n",
    "b=int(input(\"Enter a number\"))\n",
    "if calc==1:\n",
    "    print(\"add:\",a+b)\n",
    "elif calc==2:\n",
    "    print(\"sub:\",a-b)\n",
    "elif calc==3:\n",
    "    print(\"mul:\",a*b)\n",
    "elif calc==4:\n",
    "    print(\"Div:\",a/b)"
   ]
  },
  {
   "cell_type": "markdown",
   "id": "2e2161cb",
   "metadata": {},
   "source": [
    "#### 16. Write down a program to convert temperature to and from celsius, farenheit"
   ]
  },
  {
   "cell_type": "code",
   "execution_count": 1,
   "id": "01bebfbd",
   "metadata": {},
   "outputs": [
    {
     "name": "stdout",
     "output_type": "stream",
     "text": [
      "enter the temperature:36\n",
      "Enter the scalec\n",
      "Temp in 'F' 96.8\n"
     ]
    }
   ],
   "source": [
    "temp=float(input(\"enter the temperature:\"))\n",
    "scale=input(\"Enter the scale\")\n",
    "if scale=='c':\n",
    "    print(\"Temp in 'F'\",(temp*1.8)+32)\n",
    "elif sacle=='f':\n",
    "    print(\"Temp in 'c'\",(temp-32)*5/9)"
   ]
  },
  {
   "cell_type": "markdown",
   "id": "106db925",
   "metadata": {},
   "source": [
    "#### 17. A company decided to give bonus of 5% to employee if his/her year of service is more than 5 years. Ask user for their salary and their year of experience and print the net bonus amount."
   ]
  },
  {
   "cell_type": "code",
   "execution_count": 2,
   "id": "c5172578",
   "metadata": {},
   "outputs": [
    {
     "name": "stdout",
     "output_type": "stream",
     "text": [
      "Enter the salary:25000\n",
      "Enter the year:6\n",
      "1250.0\n"
     ]
    }
   ],
   "source": [
    "salary=float(input(\"Enter the salary:\"))\n",
    "yearOfService=int(input(\"Enter the year:\"))\n",
    "if yearOfService>5:\n",
    "    bonus=0.05*salary\n",
    "    print(bonus)\n",
    "else:\n",
    "    print(\"sorry\")"
   ]
  },
  {
   "cell_type": "markdown",
   "id": "ca543145",
   "metadata": {},
   "source": [
    "#### 18. Write a program to take input of length and breadth of a rectangle from user and check if it is square or not."
   ]
  },
  {
   "cell_type": "code",
   "execution_count": 4,
   "id": "f442c51f",
   "metadata": {},
   "outputs": [
    {
     "name": "stdout",
     "output_type": "stream",
     "text": [
      "Enter a number:5\n",
      "Enter a number:5\n",
      "The rectangle is a square\n"
     ]
    }
   ],
   "source": [
    "l=int(input(\"Enter a number:\"))\n",
    "b=int(input(\"Enter a number:\"))\n",
    "if l==b:\n",
    "    print(\"The rectangle is a square\")\n",
    "else:\n",
    "    print(\"It is a rectangle\")\n",
    " "
   ]
  },
  {
   "cell_type": "markdown",
   "id": "93f2c0af",
   "metadata": {},
   "source": [
    "#### 19.Take input of age of 3 people by user and determine the oldest and youngest among them."
   ]
  },
  {
   "cell_type": "code",
   "execution_count": 13,
   "id": "d964d430",
   "metadata": {},
   "outputs": [
    {
     "name": "stdout",
     "output_type": "stream",
     "text": [
      "Enter the age:2\n",
      "Enter the age:5\n",
      "Enter the age:35\n",
      "age3 is the oldest\n",
      "age1 is the youngest\n"
     ]
    }
   ],
   "source": [
    "age1=int(input(\"Enter the age:\"))\n",
    "age2=int(input(\"Enter the age:\"))\n",
    "age3=int(input(\"Enter the age:\"))\n",
    "if age1>age2 and age1>age3:\n",
    "    print(\"age1 is the oldest\")\"\n",
    "elif age2>age1 and age2>age3:\n",
    "    print(\"age2 is the oldest\")\n",
    "else:\n",
    "    print(\"age3 is the oldest\")\n",
    "if age1<age2 and age1<age3:\n",
    "     print(\"age1 is the youngest\"\")\n",
    "elif age2<age1 and age2<age3:\n",
    "    print(\"age1 is the youngest\")\n",
    "else:\n",
    "    print(\"age3 is the youngest\")"
   ]
  },
  {
   "cell_type": "markdown",
   "id": "247c2e25",
   "metadata": {},
   "source": [
    "#### 20. A school has following grading systems:\n",
    "a.Below 25-F  b.25 to 45-E  c.45 to 50-D  d.50 to 60-C  e.60 to 80-B  f.Above 80-A"
   ]
  },
  {
   "cell_type": "code",
   "execution_count": 3,
   "id": "614fdc03",
   "metadata": {},
   "outputs": [
    {
     "name": "stdout",
     "output_type": "stream",
     "text": [
      "Enter the mark:51\n",
      "C\n"
     ]
    }
   ],
   "source": [
    "mark=int(input(\"Enter the mark:\"))\n",
    "if mark<25:\n",
    "    print(\"F\")\n",
    "elif mark>25 and mark<=45:\n",
    "    print(\"E\")\n",
    "elif mark>45 and mark<=50:\n",
    "    print(\"D\")\n",
    "elif mark>50 and mark<=60:\n",
    "    print(\"C\")\n",
    "elif mark>60 and mark<=80:\n",
    "    print(\"B\")\n",
    "else:\n",
    "    print(\"A\")"
   ]
  },
  {
   "cell_type": "code",
   "execution_count": null,
   "id": "edb90250",
   "metadata": {},
   "outputs": [],
   "source": []
  }
 ],
 "metadata": {
  "kernelspec": {
   "display_name": "Python 3 (ipykernel)",
   "language": "python",
   "name": "python3"
  },
  "language_info": {
   "codemirror_mode": {
    "name": "ipython",
    "version": 3
   },
   "file_extension": ".py",
   "mimetype": "text/x-python",
   "name": "python",
   "nbconvert_exporter": "python",
   "pygments_lexer": "ipython3",
   "version": "3.9.13"
  }
 },
 "nbformat": 4,
 "nbformat_minor": 5
}
