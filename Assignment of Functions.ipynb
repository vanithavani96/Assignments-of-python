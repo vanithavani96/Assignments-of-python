{
 "cells": [
  {
   "cell_type": "markdown",
   "id": "95f5b9ae",
   "metadata": {},
   "source": [
    "#### 1. Write a function to find the maximum of three numbers."
   ]
  },
  {
   "cell_type": "code",
   "execution_count": 4,
   "id": "fdcadbeb",
   "metadata": {},
   "outputs": [
    {
     "name": "stdout",
     "output_type": "stream",
     "text": [
      "20\n"
     ]
    }
   ],
   "source": [
    "def maximum(a,b,c):\n",
    "    if a>=b and a>=c:\n",
    "        largest = a\n",
    "    elif b>=a and b>=c:\n",
    "        largest = b\n",
    "    else:\n",
    "        largest = c\n",
    "    return largest\n",
    "\n",
    "a=10\n",
    "b=15\n",
    "c=20\n",
    "print(maximum(a,b,c))   "
   ]
  },
  {
   "cell_type": "markdown",
   "id": "f020b0c8",
   "metadata": {},
   "source": [
    "#### 2.write a function to sum of all three numbers in a list."
   ]
  },
  {
   "cell_type": "code",
   "execution_count": 15,
   "id": "4163333f",
   "metadata": {},
   "outputs": [
    {
     "name": "stdout",
     "output_type": "stream",
     "text": [
      "The sum of mylist is 14\n"
     ]
    }
   ],
   "source": [
    "def sum1(l):\n",
    "    total = 0\n",
    "    for val in l:\n",
    "        total = total + val\n",
    "    return total\n",
    "\n",
    "mylist = [5,2,7]\n",
    "print(\"The sum of mylist is\", sum1(mylist))"
   ]
  },
  {
   "cell_type": "markdown",
   "id": "4eaf8e35",
   "metadata": {},
   "source": [
    "#### 3. write a function to multiply  all three numbers in a list."
   ]
  },
  {
   "cell_type": "code",
   "execution_count": 17,
   "id": "be1df623",
   "metadata": {},
   "outputs": [
    {
     "name": "stdout",
     "output_type": "stream",
     "text": [
      "The multiply is 70\n"
     ]
    }
   ],
   "source": [
    "def mul(l):\n",
    "    total = 1\n",
    "    for val in l:\n",
    "        total = total * val\n",
    "    return total\n",
    "\n",
    "mylist = [5,2,7]\n",
    "print(\"The multiply is\", mul(mylist))"
   ]
  },
  {
   "cell_type": "markdown",
   "id": "952c42a6",
   "metadata": {},
   "source": [
    "#### 4.Write a function to reverse a string."
   ]
  },
  {
   "cell_type": "code",
   "execution_count": 5,
   "id": "d6b32a26",
   "metadata": {},
   "outputs": [
    {
     "name": "stdout",
     "output_type": "stream",
     "text": [
      "The original string is:  Palindrome\n",
      "The reverse string is emordnilaP\n"
     ]
    }
   ],
   "source": [
    "def reverse_string(str):\n",
    "    str1 = \"\"    \n",
    "    for i in str:  \n",
    "        str1 = i + str1  \n",
    "    return str1    \n",
    "\n",
    "    \n",
    "str = \"Palindrome\"           \n",
    "print(\"The original string is: \",str)  \n",
    "print(\"The reverse string is\",reverse_string(str))  "
   ]
  },
  {
   "cell_type": "markdown",
   "id": "c7317067",
   "metadata": {},
   "source": [
    "#### 5. Write a funtion to find the factorial of a number."
   ]
  },
  {
   "cell_type": "code",
   "execution_count": 2,
   "id": "786f9fc3",
   "metadata": {},
   "outputs": [
    {
     "name": "stdout",
     "output_type": "stream",
     "text": [
      "Factorial of 5 is 120\n"
     ]
    }
   ],
   "source": [
    "def fact(n):  \n",
    "    return 1 if (n==1 or n==0) else n * fact(n - 1);  \n",
    "  \n",
    "num = 5  \n",
    "print(\"Factorial of\",num,\"is\",fact(num))  \n",
    "     "
   ]
  },
  {
   "cell_type": "markdown",
   "id": "98f984fa",
   "metadata": {},
   "source": [
    "#### 6. Write a function that accepts a string and calculate the number of upper case and lower case letters"
   ]
  },
  {
   "cell_type": "code",
   "execution_count": 2,
   "id": "c736838c",
   "metadata": {},
   "outputs": [
    {
     "name": "stdout",
     "output_type": "stream",
     "text": [
      "LowerCase letter in the String 8\n",
      "UpperCase letter in the String 2\n"
     ]
    }
   ],
   "source": [
    "def count(str1):\n",
    "    lowercase_count=0\n",
    "    uppercase_count=0\n",
    "    for letter in str1:\n",
    "        if letter.isupper():\n",
    "            uppercase_count+=1\n",
    "        elif letter.islower():\n",
    "            lowercase_count+=1\n",
    "\n",
    "\n",
    "    print(\"LowerCase letter in the String\",lowercase_count)\n",
    "    print(\"UpperCase letter in the String\",uppercase_count)\n",
    "count(\"Hello World\")\n",
    "            "
   ]
  },
  {
   "cell_type": "markdown",
   "id": "0f53587c",
   "metadata": {},
   "source": [
    "#### 7.Write a function that takes a new list and returns a new list  with unique elements of the first list."
   ]
  },
  {
   "cell_type": "code",
   "execution_count": 12,
   "id": "2d763a0a",
   "metadata": {},
   "outputs": [
    {
     "name": "stdout",
     "output_type": "stream",
     "text": [
      "[22, 33, 44, 55, 11]\n"
     ]
    }
   ],
   "source": [
    "def f(list):\n",
    "    x=[]\n",
    "    for a  in list:\n",
    "        if a not in x:\n",
    "            x.append(a)\n",
    "    return x\n",
    "print(f([22,33,44,55,22,11,22]))"
   ]
  },
  {
   "cell_type": "markdown",
   "id": "80125ed0",
   "metadata": {},
   "source": [
    "#### 8.Write a function that takes a number as a parameter and check the number is prime or not."
   ]
  },
  {
   "cell_type": "code",
   "execution_count": 4,
   "id": "cd34ab7b",
   "metadata": {},
   "outputs": [
    {
     "name": "stdout",
     "output_type": "stream",
     "text": [
      "11 is a prime number\n"
     ]
    }
   ],
   "source": [
    "num = 11\n",
    "\n",
    "if num > 1:\n",
    "   \n",
    "    for i in range(2, int(num/2)+1):\n",
    "      \n",
    "        if (num % i) == 0:\n",
    "            print(num, \"is not a prime number\")\n",
    "            break\n",
    "    else:\n",
    "        print(num, \"is a prime number\")\n",
    "else:\n",
    "    print(num, \"is not a prime number\")"
   ]
  },
  {
   "cell_type": "markdown",
   "id": "6c5b2417",
   "metadata": {},
   "source": [
    "#### 9. Write a function to check whether a number is perfect or not."
   ]
  },
  {
   "cell_type": "code",
   "execution_count": 5,
   "id": "d6d0cc5a",
   "metadata": {},
   "outputs": [
    {
     "name": "stdout",
     "output_type": "stream",
     "text": [
      "True\n"
     ]
    }
   ],
   "source": [
    "def perfect_number(n):\n",
    "    sum = 0\n",
    "    for x in range(1, n):\n",
    "        if n % x == 0:\n",
    "            sum += x\n",
    "    return sum == n\n",
    "print(perfect_number(6))"
   ]
  },
  {
   "cell_type": "markdown",
   "id": "69ee47ad",
   "metadata": {},
   "source": [
    "#### 10.Write a function that checks whether a passed string is palindrome or not."
   ]
  },
  {
   "cell_type": "code",
   "execution_count": 6,
   "id": "fbd0ed41",
   "metadata": {},
   "outputs": [
    {
     "name": "stdout",
     "output_type": "stream",
     "text": [
      "No\n"
     ]
    }
   ],
   "source": [
    "def isPalindrome(s):\n",
    "    return s == s[::-1]\n",
    "  \n",
    "s = \"print\"\n",
    "ans = isPalindrome(s)\n",
    "  \n",
    "if ans:\n",
    "    print(\"Yes\")\n",
    "else:\n",
    "    print(\"No\") "
   ]
  },
  {
   "cell_type": "markdown",
   "id": "e1129298",
   "metadata": {},
   "source": [
    "#### 11.Write a function to check whether a given number is strong or not."
   ]
  },
  {
   "cell_type": "code",
   "execution_count": 5,
   "id": "cc762f00",
   "metadata": {},
   "outputs": [
    {
     "name": "stdout",
     "output_type": "stream",
     "text": [
      "[1, 2, 145]\n"
     ]
    }
   ],
   "source": [
    "def factorial(number):\n",
    "    if(number == 0 or number == 1):\n",
    "        fact = 1\n",
    "    else:\n",
    "        fact = number * factorial(number - 1)\n",
    "    return fact\n",
    " \n",
    "def strong_number(list):\n",
    "    new_list = []\n",
    " \n",
    "    for x in list:\n",
    "        temp = x\n",
    "        sum = 0\n",
    "        while(temp):\n",
    "            rem = temp % 10\n",
    "            sum += factorial(rem)\n",
    "            temp = temp // 10\n",
    "        if(sum == x):\n",
    "            new_list.append(x)\n",
    "        else:\n",
    "            pass\n",
    " \n",
    "    return new_list\n",
    " \n",
    "val_list = [1, 2, 5, 145, 654, 34]\n",
    "strong_num_list = strong_number(val_list)\n",
    "print(strong_num_list)"
   ]
  },
  {
   "cell_type": "markdown",
   "id": "8d8ef279",
   "metadata": {},
   "source": [
    "#### Write a function to print sum of reverse of a number."
   ]
  },
  {
   "cell_type": "code",
   "execution_count": 4,
   "id": "b662b8c6",
   "metadata": {},
   "outputs": [
    {
     "name": "stdout",
     "output_type": "stream",
     "text": [
      "1+2+3+4 = 10\n",
      "4+3+2+1 = 10\n"
     ]
    }
   ],
   "source": [
    "def printSum(n, reverse):\n",
    "    s = sum(range(n+1))\n",
    "    if reverse:\n",
    "        print('+'.join(str(i) for i in range(1, n+1)) + ' = ' + str(s))\n",
    "    else:\n",
    "        print('+'.join(str(i) for i in range(n, 0, -1)) + ' = ' + str(s))\n",
    "\n",
    "printSum(4, True)\n",
    "printSum(4, False)"
   ]
  },
  {
   "cell_type": "code",
   "execution_count": null,
   "id": "2be0076c",
   "metadata": {},
   "outputs": [],
   "source": []
  }
 ],
 "metadata": {
  "kernelspec": {
   "display_name": "Python 3 (ipykernel)",
   "language": "python",
   "name": "python3"
  },
  "language_info": {
   "codemirror_mode": {
    "name": "ipython",
    "version": 3
   },
   "file_extension": ".py",
   "mimetype": "text/x-python",
   "name": "python",
   "nbconvert_exporter": "python",
   "pygments_lexer": "ipython3",
   "version": "3.9.13"
  }
 },
 "nbformat": 4,
 "nbformat_minor": 5
}
