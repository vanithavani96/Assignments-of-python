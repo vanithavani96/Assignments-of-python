{
 "cells": [
  {
   "cell_type": "markdown",
   "id": "531a4e11",
   "metadata": {},
   "source": [
    "#### 1.Write a program to print \"Hello Python\" ten times."
   ]
  },
  {
   "cell_type": "code",
   "execution_count": 1,
   "id": "3af3b8dc",
   "metadata": {},
   "outputs": [
    {
     "name": "stdout",
     "output_type": "stream",
     "text": [
      "Hello\n",
      "Hello\n",
      "Hello\n",
      "Hello\n",
      "Hello\n",
      "Hello\n",
      "Hello\n",
      "Hello\n",
      "Hello\n",
      "Hello\n"
     ]
    }
   ],
   "source": [
    "\n",
    "for i in range(0,10):\n",
    "    print(\"Hello\")"
   ]
  },
  {
   "cell_type": "markdown",
   "id": "8b7300a8",
   "metadata": {},
   "source": [
    "#### 2. Write a program to print number from 1 to 10."
   ]
  },
  {
   "cell_type": "code",
   "execution_count": 2,
   "id": "1865e7af",
   "metadata": {},
   "outputs": [
    {
     "name": "stdout",
     "output_type": "stream",
     "text": [
      "1\n",
      "2\n",
      "3\n",
      "4\n",
      "5\n",
      "6\n",
      "7\n",
      "8\n",
      "9\n",
      "10\n"
     ]
    }
   ],
   "source": [
    "for i in range(1,10+1):\n",
    "    print(i)"
   ]
  },
  {
   "cell_type": "markdown",
   "id": "02774bc3",
   "metadata": {},
   "source": [
    "#### 3.Write a program to print sum of 10 numbers."
   ]
  },
  {
   "cell_type": "code",
   "execution_count": 3,
   "id": "6f287515",
   "metadata": {},
   "outputs": [
    {
     "name": "stdout",
     "output_type": "stream",
     "text": [
      "Sum of 1st 10 numbers: 55\n"
     ]
    }
   ],
   "source": [
    "sum=0\n",
    "for i in range(1,11):\n",
    "    sum+=i\n",
    "print(\"Sum of 1st 10 numbers:\",sum)"
   ]
  },
  {
   "cell_type": "markdown",
   "id": "1ee1aabc",
   "metadata": {},
   "source": [
    "#### 4.Write a program to print n number entered by the user. "
   ]
  },
  {
   "cell_type": "code",
   "execution_count": 1,
   "id": "43135f25",
   "metadata": {},
   "outputs": [
    {
     "name": "stdout",
     "output_type": "stream",
     "text": [
      "Enter a number:10\n",
      "1\n",
      "2\n",
      "3\n",
      "4\n",
      "5\n",
      "6\n",
      "7\n",
      "8\n",
      "9\n",
      "10\n"
     ]
    }
   ],
   "source": [
    "N=int(input(\"Enter a number:\"))\n",
    "for i in range(1,N+1):\n",
    "    print(i)"
   ]
  },
  {
   "cell_type": "markdown",
   "id": "74a5d72c",
   "metadata": {},
   "source": [
    "#### 5.Write a program to print sum of n numbers."
   ]
  },
  {
   "cell_type": "code",
   "execution_count": 2,
   "id": "c5e2e59d",
   "metadata": {},
   "outputs": [
    {
     "name": "stdout",
     "output_type": "stream",
     "text": [
      "Enter any number:15\n",
      "Sum of 1st n numbers: 120\n"
     ]
    }
   ],
   "source": [
    "n=int(input(\"Enter any number:\"))\n",
    "sum=0\n",
    "for i in range(1,n+1):\n",
    "    sum+=i\n",
    "print(\"Sum of 1st n numbers:\",sum)"
   ]
  },
  {
   "cell_type": "markdown",
   "id": "c415425e",
   "metadata": {},
   "source": [
    "#### 6.Write a program to print table of a number."
   ]
  },
  {
   "cell_type": "code",
   "execution_count": 4,
   "id": "86a243fe",
   "metadata": {},
   "outputs": [
    {
     "name": "stdout",
     "output_type": "stream",
     "text": [
      "The multiplication table of a number:2\n",
      "2 x 1 = 2\n",
      "2 x 2 = 4\n",
      "2 x 3 = 6\n",
      "2 x 4 = 8\n",
      "2 x 5 = 10\n",
      "2 x 6 = 12\n",
      "2 x 7 = 14\n",
      "2 x 8 = 16\n",
      "2 x 9 = 18\n",
      "2 x 10 = 20\n",
      "2 x 11 = 22\n",
      "2 x 12 = 24\n"
     ]
    }
   ],
   "source": [
    "n=int(input(\"The multiplication table of a number:\"))\n",
    "i=1\n",
    "for i in range(1,13):\n",
    "    print(n,\"x\",i,\"=\",n*i)\n"
   ]
  },
  {
   "cell_type": "markdown",
   "id": "b05ce5d7",
   "metadata": {},
   "source": [
    "#### 7.Write a program to calculate the factorial of a number."
   ]
  },
  {
   "cell_type": "code",
   "execution_count": 5,
   "id": "d967d491",
   "metadata": {},
   "outputs": [
    {
     "name": "stdout",
     "output_type": "stream",
     "text": [
      "Enter a number:5\n",
      "The fatorial of 5 is 120\n"
     ]
    }
   ],
   "source": [
    "n=int(input(\"Enter a number:\"))\n",
    "fact=1\n",
    "for i in range(1,n+1):\n",
    "    fact=fact*i\n",
    "print(\"The fatorial of\", n,\"is\",fact)"
   ]
  },
  {
   "cell_type": "markdown",
   "id": "23e5094d",
   "metadata": {},
   "source": [
    "#### 8.Write a program to print even number between 1 to 100."
   ]
  },
  {
   "cell_type": "code",
   "execution_count": 9,
   "id": "14ccb7d9",
   "metadata": {},
   "outputs": [
    {
     "name": "stdout",
     "output_type": "stream",
     "text": [
      "2\n",
      "4\n",
      "6\n",
      "8\n",
      "10\n",
      "12\n",
      "14\n",
      "16\n",
      "18\n",
      "20\n",
      "22\n",
      "24\n",
      "26\n",
      "28\n",
      "30\n",
      "32\n",
      "34\n",
      "36\n",
      "38\n",
      "40\n",
      "42\n",
      "44\n",
      "46\n",
      "48\n",
      "50\n",
      "52\n",
      "54\n",
      "56\n",
      "58\n",
      "60\n",
      "62\n",
      "64\n",
      "66\n",
      "68\n",
      "70\n",
      "72\n",
      "74\n",
      "76\n",
      "78\n",
      "80\n",
      "82\n",
      "84\n",
      "86\n",
      "88\n",
      "90\n",
      "92\n",
      "94\n",
      "96\n",
      "98\n",
      "100\n"
     ]
    }
   ],
   "source": [
    "for i in range(2,101,2):\n",
    "    print(i)"
   ]
  },
  {
   "cell_type": "markdown",
   "id": "1b202eca",
   "metadata": {},
   "source": [
    "#### 9.Write a program to print odd number between 1 to 100."
   ]
  },
  {
   "cell_type": "code",
   "execution_count": 10,
   "id": "8e1c8ae4",
   "metadata": {},
   "outputs": [
    {
     "name": "stdout",
     "output_type": "stream",
     "text": [
      "1\n",
      "3\n",
      "5\n",
      "7\n",
      "9\n",
      "11\n",
      "13\n",
      "15\n",
      "17\n",
      "19\n",
      "21\n",
      "23\n",
      "25\n",
      "27\n",
      "29\n",
      "31\n",
      "33\n",
      "35\n",
      "37\n",
      "39\n",
      "41\n",
      "43\n",
      "45\n",
      "47\n",
      "49\n",
      "51\n",
      "53\n",
      "55\n",
      "57\n",
      "59\n",
      "61\n",
      "63\n",
      "65\n",
      "67\n",
      "69\n",
      "71\n",
      "73\n",
      "75\n",
      "77\n",
      "79\n",
      "81\n",
      "83\n",
      "85\n",
      "87\n",
      "89\n",
      "91\n",
      "93\n",
      "95\n",
      "97\n",
      "99\n"
     ]
    }
   ],
   "source": [
    "for i in range(1,101,2):\n",
    "    print(i)"
   ]
  },
  {
   "cell_type": "markdown",
   "id": "84a30b1a",
   "metadata": {},
   "source": [
    "#### 10.Write a program to check whether a number is palindrome or not."
   ]
  },
  {
   "cell_type": "code",
   "execution_count": 17,
   "id": "b7e1fd49",
   "metadata": {},
   "outputs": [
    {
     "name": "stdout",
     "output_type": "stream",
     "text": [
      "Enter a number:121\n",
      "The given number is palindrome\n"
     ]
    }
   ],
   "source": [
    "n=int(input(\"Enter a number:\"))\n",
    "temp=n\n",
    "rev=0\n",
    "while n>0:\n",
    "    rem=n%10  \n",
    "    rev=rev*10+rem \n",
    "    n=n//10 \n",
    "if temp==rev:\n",
    "    print(\"The given number is palindrome\")\n",
    "else:\n",
    "    print(\"The given number is not a palindrome\")"
   ]
  },
  {
   "cell_type": "markdown",
   "id": "e623fdbb",
   "metadata": {},
   "source": [
    "#### 11.Write a program to find the factors of a number."
   ]
  },
  {
   "cell_type": "code",
   "execution_count": 1,
   "id": "b244e882",
   "metadata": {},
   "outputs": [
    {
     "name": "stdout",
     "output_type": "stream",
     "text": [
      "Enter a number:25\n",
      "The factors of 25 are,\n",
      "1\n",
      "5\n",
      "25\n"
     ]
    }
   ],
   "source": [
    "number =int(input(\"Enter a number:\"))\n",
    "\n",
    "print(\"The factors of {} are,\".format(number))\n",
    "\n",
    "for i in range(1,number+1):\n",
    "    if number%i==0:\n",
    "        print(i)"
   ]
  },
  {
   "cell_type": "markdown",
   "id": "2a80b1bc",
   "metadata": {},
   "source": [
    "#### 12. Write a program to print the reverse of a number."
   ]
  },
  {
   "cell_type": "code",
   "execution_count": 1,
   "id": "d4fa78c3",
   "metadata": {},
   "outputs": [
    {
     "name": "stdout",
     "output_type": "stream",
     "text": [
      "The reverse of a number is:54321\n"
     ]
    }
   ],
   "source": [
    "n=12345\n",
    "temp=0\n",
    "while n>0: \n",
    "    rem=n%10 \n",
    "    temp=temp*10+rem\n",
    "    n=n//10\n",
    "print(\"The reverse of a number is:{}\".format(temp))"
   ]
  },
  {
   "cell_type": "markdown",
   "id": "ba11841e",
   "metadata": {},
   "source": [
    "#### 13.Write a program to print the sum of  reverse of a number."
   ]
  },
  {
   "cell_type": "code",
   "execution_count": 7,
   "id": "d54a27a8",
   "metadata": {},
   "outputs": [
    {
     "name": "stdout",
     "output_type": "stream",
     "text": [
      "Reversed Number:  4321\n",
      "sum =  10\n"
     ]
    }
   ],
   "source": [
    "num=1234\n",
    "rev=0\n",
    "sum=0\n",
    "\n",
    "while num!=0:\n",
    "    digit=num % 10\n",
    "    sum=sum + digit\n",
    "    rev=rev * 10 + digit\n",
    "    num=num//10\n",
    "\n",
    "print(\"Reversed Number: \",rev)\n",
    "print('sum = ',sum)\n",
    "\n",
    "\n"
   ]
  },
  {
   "cell_type": "markdown",
   "id": "3b5fa281",
   "metadata": {},
   "source": [
    "#### 14.Write a program to check whether a given number is prime or not."
   ]
  },
  {
   "cell_type": "code",
   "execution_count": 10,
   "id": "3e6c21aa",
   "metadata": {},
   "outputs": [
    {
     "name": "stdout",
     "output_type": "stream",
     "text": [
      "13 is a prime number:\n"
     ]
    }
   ],
   "source": [
    "num = 13\n",
    "count=0\n",
    "if num > 1:\n",
    "    for i in range(1,num+1):\n",
    "        if num%i==0:\n",
    "            count=count+1\n",
    "    if count==2:\n",
    "        print(\"{} is a prime number:\".format(num))\n",
    "    else:\n",
    "        print(\"{} is not a prime number:\".format(num))"
   ]
  },
  {
   "cell_type": "markdown",
   "id": "2da958b5",
   "metadata": {},
   "source": [
    "#### 15.Write a program to print prime number between 1 and 100."
   ]
  },
  {
   "cell_type": "code",
   "execution_count": 2,
   "id": "6d124b1a",
   "metadata": {},
   "outputs": [
    {
     "name": "stdout",
     "output_type": "stream",
     "text": [
      "Prime numbers between 1 and 100 are:\n",
      "2\n",
      "3\n",
      "5\n",
      "7\n",
      "11\n",
      "13\n",
      "17\n",
      "19\n",
      "23\n",
      "29\n",
      "31\n",
      "37\n",
      "41\n",
      "43\n",
      "47\n",
      "53\n",
      "59\n",
      "61\n",
      "67\n",
      "71\n",
      "73\n",
      "79\n",
      "83\n",
      "89\n",
      "97\n"
     ]
    }
   ],
   "source": [
    "n=1\n",
    "n1=100\n",
    "\n",
    "print(\"Prime numbers between\", n, \"and\", n1, \"are:\")\n",
    "\n",
    "for num in range(n, n1 + 1):\n",
    "    if num > 1:\n",
    "        for i in range(2, num):\n",
    "            if (num % i) == 0:\n",
    "                break\n",
    "        else:\n",
    "            print(num)"
   ]
  },
  {
   "cell_type": "markdown",
   "id": "d28b44a2",
   "metadata": {},
   "source": [
    "#### 16. Write a program to print number in reverse order entered by the user."
   ]
  },
  {
   "cell_type": "code",
   "execution_count": 3,
   "id": "1409f6e4",
   "metadata": {},
   "outputs": [
    {
     "name": "stdout",
     "output_type": "stream",
     "text": [
      "Enter a number123\n",
      "The reverse of a number is:321\n"
     ]
    }
   ],
   "source": [
    "n=int(input(\"Enter a number\"))\n",
    "temp=0\n",
    "while n>0: \n",
    "    rem=n%10 \n",
    "    temp=temp*10+rem\n",
    "    n=n//10\n",
    "print(\"The reverse of a number is:{}\".format(temp))"
   ]
  },
  {
   "cell_type": "markdown",
   "id": "cd4115b1",
   "metadata": {},
   "source": [
    "#### 17.Write a program to print cube of all numbers from 1 to a given number"
   ]
  },
  {
   "cell_type": "code",
   "execution_count": 4,
   "id": "d64e3590",
   "metadata": {},
   "outputs": [
    {
     "name": "stdout",
     "output_type": "stream",
     "text": [
      "1\n",
      "8\n",
      "27\n",
      "64\n",
      "125\n",
      "216\n",
      "343\n",
      "512\n",
      "729\n",
      "1000\n",
      "1331\n"
     ]
    }
   ],
   "source": [
    "for i in range(1,12):\n",
    "    print(i*i*i)"
   ]
  },
  {
   "cell_type": "markdown",
   "id": "8f5fc8a9",
   "metadata": {},
   "source": [
    "#### 18.Write a program to print the following number patterns using a loop."
   ]
  },
  {
   "cell_type": "code",
   "execution_count": 6,
   "id": "1c795b0e",
   "metadata": {},
   "outputs": [
    {
     "name": "stdout",
     "output_type": "stream",
     "text": [
      "1\n",
      "12\n",
      "123\n",
      "1234\n",
      "12345\n"
     ]
    }
   ],
   "source": [
    "for i in range(1,6):\n",
    "    for j in range(1,i+1):\n",
    "        print(j,end=\"\")\n",
    "    print()"
   ]
  },
  {
   "cell_type": "code",
   "execution_count": 9,
   "id": "bc8973fa",
   "metadata": {},
   "outputs": [
    {
     "name": "stdout",
     "output_type": "stream",
     "text": [
      "1\n",
      "22\n",
      "333\n",
      "4444\n",
      "55555\n"
     ]
    }
   ],
   "source": [
    "for i in range(1,6):\n",
    "    for j in range(i):\n",
    "        print(i,end=\"\")\n",
    "    print()"
   ]
  },
  {
   "cell_type": "code",
   "execution_count": 12,
   "id": "99dea427",
   "metadata": {},
   "outputs": [
    {
     "name": "stdout",
     "output_type": "stream",
     "text": [
      "54321\n",
      "5432\n",
      "543\n",
      "54\n",
      "5\n"
     ]
    }
   ],
   "source": [
    "n=5\n",
    "for i in range(n): \n",
    "    for j in range(n-i):\n",
    "        print(str(n-j),end='')\n",
    "    print()"
   ]
  },
  {
   "cell_type": "code",
   "execution_count": 11,
   "id": "bac68da4",
   "metadata": {},
   "outputs": [
    {
     "name": "stdout",
     "output_type": "stream",
     "text": [
      "12345\n",
      "1234\n",
      "123\n",
      "12\n",
      "1\n"
     ]
    }
   ],
   "source": [
    "n=5\n",
    "for i in range(n): #i=0,1,2,3,4\n",
    "    for j in range(n-i):\n",
    "        print(str(j+1),end='')\n",
    "    print()"
   ]
  },
  {
   "cell_type": "code",
   "execution_count": 5,
   "id": "ad026986",
   "metadata": {},
   "outputs": [
    {
     "name": "stdout",
     "output_type": "stream",
     "text": [
      "54321 \n",
      "4321 \n",
      "321 \n",
      "21 \n",
      "1 \n",
      " \n"
     ]
    }
   ],
   "source": [
    "n=5\n",
    "for i in range(6):    \n",
    "    for j in range(n-i,0,-1):  \n",
    "        print(j, end='')  \n",
    "    print(\" \") "
   ]
  },
  {
   "cell_type": "code",
   "execution_count": 57,
   "id": "9e9b422b",
   "metadata": {},
   "outputs": [
    {
     "name": "stdout",
     "output_type": "stream",
     "text": [
      "* \n",
      "* * \n",
      "* * * \n",
      "* * * * \n",
      "* * * * * \n"
     ]
    }
   ],
   "source": [
    "for i in range(5):\n",
    "    for j in range(i+1):\n",
    "        print(\"*\",end=\" \")\n",
    "    print()"
   ]
  },
  {
   "cell_type": "code",
   "execution_count": 59,
   "id": "adee8740",
   "metadata": {},
   "outputs": [
    {
     "name": "stdout",
     "output_type": "stream",
     "text": [
      "*****\n",
      "*****\n",
      "*****\n",
      "*****\n",
      "*****\n"
     ]
    }
   ],
   "source": [
    "n=5\n",
    "for i in range(n):\n",
    "    print(\"*\"*n)"
   ]
  },
  {
   "cell_type": "code",
   "execution_count": 2,
   "id": "9a8efe4e",
   "metadata": {},
   "outputs": [
    {
     "name": "stdout",
     "output_type": "stream",
     "text": [
      "* * * * *  \n",
      "* * * *  \n",
      "* * *  \n",
      "* *  \n",
      "*  \n",
      " \n"
     ]
    }
   ],
   "source": [
    "rows=5\n",
    "for i in range(rows + 1, 0, -1):    \n",
    "    for j in range(0, i - 1):  \n",
    "        print(\"*\", end=' ')  \n",
    "    print(\" \") "
   ]
  },
  {
   "cell_type": "code",
   "execution_count": 4,
   "id": "7cd04f9e",
   "metadata": {},
   "outputs": [
    {
     "name": "stdout",
     "output_type": "stream",
     "text": [
      "* * * * * \n",
      "  * * * * \n",
      "    * * * \n",
      "      * * \n",
      "        * \n"
     ]
    }
   ],
   "source": [
    "rows = 5\n",
    "i = rows\n",
    "while i >= 1:\n",
    "    j = rows\n",
    "    while j > i:\n",
    "        print(' ', end=' ')\n",
    "        j -= 1\n",
    "    k = 1\n",
    "    while k <= i:\n",
    "        print('*', end=' ')\n",
    "        k += 1\n",
    "    print()\n",
    "    i -= 1"
   ]
  },
  {
   "cell_type": "code",
   "execution_count": 61,
   "id": "4639b004",
   "metadata": {},
   "outputs": [
    {
     "name": "stdout",
     "output_type": "stream",
     "text": [
      "Enter the number of rows5\n",
      "        * \n",
      "      * * \n",
      "    * * * \n",
      "  * * * * \n",
      "* * * * * \n"
     ]
    }
   ],
   "source": [
    "rows = 5\n",
    "k = 8\n",
    "for i in range(0, rows):\n",
    "    for j in range(0, k):\n",
    "        print(end=\" \")\n",
    "    k = k - 2\n",
    "    for j in range(0, i+1):\n",
    "        print(\"* \", end=\"\")\n",
    "    print()"
   ]
  },
  {
   "cell_type": "code",
   "execution_count": 62,
   "id": "b2cb9b4a",
   "metadata": {},
   "outputs": [
    {
     "name": "stdout",
     "output_type": "stream",
     "text": [
      "A\n",
      "AB\n",
      "ABC\n",
      "ABCD\n",
      "ABCDE\n"
     ]
    }
   ],
   "source": [
    "for i in range(5):\n",
    "    for j in range(i+1):\n",
    "        print(chr(65+j),end=\"\")\n",
    "    print()"
   ]
  },
  {
   "cell_type": "code",
   "execution_count": 15,
   "id": "799c8bb6",
   "metadata": {},
   "outputs": [
    {
     "name": "stdout",
     "output_type": "stream",
     "text": [
      "A\n",
      "BB\n",
      "CCC\n",
      "DDDD\n",
      "EEEEE\n"
     ]
    }
   ],
   "source": [
    "for i in range(1,6):\n",
    "    for j in range(i):\n",
    "        print(chr(64+i),end=\"\")\n",
    "    print()"
   ]
  },
  {
   "cell_type": "code",
   "execution_count": 41,
   "id": "c698a909",
   "metadata": {
    "scrolled": false
   },
   "outputs": [
    {
     "name": "stdout",
     "output_type": "stream",
     "text": [
      "ABCDE\n",
      "ABCD\n",
      "ABC\n",
      "AB\n",
      "A\n"
     ]
    }
   ],
   "source": [
    "n=5\n",
    "for i in range(n): #i=0,1,2,3,4\n",
    "    for j in range(n-i):\n",
    "        print(chr(65+j),end='')\n",
    "    print()"
   ]
  },
  {
   "cell_type": "code",
   "execution_count": 63,
   "id": "d63ccee5",
   "metadata": {},
   "outputs": [
    {
     "name": "stdout",
     "output_type": "stream",
     "text": [
      "EEEEE \n",
      "DDDD \n",
      "CCC \n",
      "BB \n",
      "A \n",
      " \n"
     ]
    }
   ],
   "source": [
    "rows=5\n",
    "for i in range(rows+1):    \n",
    "    for j in range(n-i):  \n",
    "        print(chr(64+n-i), end='')  \n",
    "    print(\" \")"
   ]
  },
  {
   "cell_type": "code",
   "execution_count": null,
   "id": "c2504c3a",
   "metadata": {},
   "outputs": [],
   "source": []
  }
 ],
 "metadata": {
  "kernelspec": {
   "display_name": "Python 3 (ipykernel)",
   "language": "python",
   "name": "python3"
  },
  "language_info": {
   "codemirror_mode": {
    "name": "ipython",
    "version": 3
   },
   "file_extension": ".py",
   "mimetype": "text/x-python",
   "name": "python",
   "nbconvert_exporter": "python",
   "pygments_lexer": "ipython3",
   "version": "3.9.13"
  }
 },
 "nbformat": 4,
 "nbformat_minor": 5
}
