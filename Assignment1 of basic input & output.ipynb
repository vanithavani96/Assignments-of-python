{
 "cells": [
  {
   "cell_type": "markdown",
   "id": "1150652f",
   "metadata": {},
   "source": [
    "1.write a program to print yourself introduction"
   ]
  },
  {
   "cell_type": "code",
   "execution_count": 2,
   "id": "88b49008",
   "metadata": {},
   "outputs": [
    {
     "name": "stdout",
     "output_type": "stream",
     "text": [
      "My name is vanitha\n",
      "UG\n",
      "7.62\n",
      "good communication skill and self learning skill\n",
      "patience\n"
     ]
    }
   ],
   "source": [
    "name=\"My name is vanitha\"\n",
    "qualification=\"UG\"\n",
    "gpa=7.62\n",
    "skills=\"good communication skill and self learning skill\"\n",
    "strength=\"patience\"\n",
    "print(name)\n",
    "print(qualification)\n",
    "print(gpa)\n",
    "print(skills)\n",
    "print(strength)"
   ]
  },
  {
   "cell_type": "markdown",
   "id": "96a4c39a",
   "metadata": {},
   "source": [
    "2.write a program to perform the following operations\n",
    "*Addition\n",
    "*Subtraction\n",
    "*Multiplication\n",
    "*Division\n",
    "*Modulus\n",
    "*Exponent\n"
   ]
  },
  {
   "cell_type": "code",
   "execution_count": 3,
   "id": "2ac4b1d0",
   "metadata": {},
   "outputs": [
    {
     "name": "stdout",
     "output_type": "stream",
     "text": [
      "The sum is: 5\n"
     ]
    }
   ],
   "source": [
    "a=2  #addition of two numbers\n",
    "b=3\n",
    "c=a+b\n",
    "print(\"The sum is:\",c)"
   ]
  },
  {
   "cell_type": "code",
   "execution_count": 4,
   "id": "35839ffe",
   "metadata": {},
   "outputs": [
    {
     "name": "stdout",
     "output_type": "stream",
     "text": [
      "The difference is: 5\n"
     ]
    }
   ],
   "source": [
    "a=10 #subtraction\n",
    "b=5\n",
    "c=a-b\n",
    "print(\"The difference is:\",c)"
   ]
  },
  {
   "cell_type": "code",
   "execution_count": 8,
   "id": "15382e63",
   "metadata": {},
   "outputs": [
    {
     "name": "stdout",
     "output_type": "stream",
     "text": [
      "enter the number15\n",
      "enter the number3\n",
      "The product of two number is: 45\n"
     ]
    }
   ],
   "source": [
    "a=int(input(\"enter the number\")) #Multiplication\n",
    "b=int(input(\"enter the number\"))\n",
    "c=a*b\n",
    "print(\"The product of two number is:\",c)"
   ]
  },
  {
   "cell_type": "code",
   "execution_count": 9,
   "id": "374736d1",
   "metadata": {},
   "outputs": [
    {
     "name": "stdout",
     "output_type": "stream",
     "text": [
      "The result is: 10.0\n"
     ]
    }
   ],
   "source": [
    "a=20 #Division\n",
    "b=2\n",
    "c=a/b\n",
    "print(\"The result is:\",c)"
   ]
  },
  {
   "cell_type": "code",
   "execution_count": 11,
   "id": "a0667b85",
   "metadata": {},
   "outputs": [
    {
     "name": "stdout",
     "output_type": "stream",
     "text": [
      "The output is: 2\n"
     ]
    }
   ],
   "source": [
    "a=30  #Modulus\n",
    "b=7\n",
    "c=a%b\n",
    "print(\"The output is:\",c)"
   ]
  },
  {
   "cell_type": "code",
   "execution_count": 13,
   "id": "789b4494",
   "metadata": {},
   "outputs": [
    {
     "name": "stdout",
     "output_type": "stream",
     "text": [
      "The result is: 16\n"
     ]
    }
   ],
   "source": [
    "a=4  #Exponent\n",
    "b=a**2\n",
    "print(\"The result is:\",b)"
   ]
  },
  {
   "cell_type": "markdown",
   "id": "eed9ec1b",
   "metadata": {},
   "source": [
    "3.Wirte a program of swap two numbers."
   ]
  },
  {
   "cell_type": "code",
   "execution_count": 18,
   "id": "92e54281",
   "metadata": {},
   "outputs": [
    {
     "name": "stdout",
     "output_type": "stream",
     "text": [
      "value of a after swapping is: 2\n",
      "value of b after swapping is: 3\n"
     ]
    }
   ],
   "source": [
    "a=3\n",
    "b=2\n",
    "c=a\n",
    "a=b\n",
    "b=c\n",
    "print(\"value of a after swapping is:\", a)\n",
    "print(\"value of b after swapping is:\", b)"
   ]
  },
  {
   "cell_type": "markdown",
   "id": "044b6ae5",
   "metadata": {},
   "source": [
    "4.Write a program to swap two numbers without using third variable."
   ]
  },
  {
   "cell_type": "code",
   "execution_count": 19,
   "id": "5979e269",
   "metadata": {},
   "outputs": [
    {
     "name": "stdout",
     "output_type": "stream",
     "text": [
      "the value of x before swapping is: 5\n",
      "the value of y before swapping is: 10\n",
      "The value of x after swapping is: 10\n",
      "The value of y after swapping is: 5\n"
     ]
    }
   ],
   "source": [
    "x=5\n",
    "y=10\n",
    "print(\"the value of x before swapping is:\",x)\n",
    "print(\"the value of y before swapping is:\",y)\n",
    "x,y=y,x\n",
    "print(\"The value of x after swapping is:\", x)\n",
    "print(\"The value of y after swapping is:\", y)\n"
   ]
  },
  {
   "cell_type": "markdown",
   "id": "86c17134",
   "metadata": {},
   "source": [
    "5.Write a program to compute simple interest."
   ]
  },
  {
   "cell_type": "code",
   "execution_count": 21,
   "id": "af6f9962",
   "metadata": {},
   "outputs": [
    {
     "name": "stdout",
     "output_type": "stream",
     "text": [
      "the simple interest is: 100.0\n"
     ]
    }
   ],
   "source": [
    "p=1000\n",
    "r=5\n",
    "t=2\n",
    "SI=(p*r*t)/100\n",
    "print(\"the simple interest is:\",SI)"
   ]
  },
  {
   "cell_type": "markdown",
   "id": "224a3ffa",
   "metadata": {},
   "source": [
    "6.Write a program to find average of five numbers by user input"
   ]
  },
  {
   "cell_type": "code",
   "execution_count": 2,
   "id": "a42d01aa",
   "metadata": {},
   "outputs": [
    {
     "name": "stdout",
     "output_type": "stream",
     "text": [
      "enter the number:2\n",
      "enter the number:4\n",
      "enter the number:6\n",
      "enter the number:8\n",
      "enter the number:5\n",
      "The average is: 5.0\n"
     ]
    }
   ],
   "source": [
    "a=int(input(\"enter the number:\"))\n",
    "b=int(input(\"enter the number:\"))\n",
    "c=int(input(\"enter the number:\"))\n",
    "d=int(input(\"enter the number:\"))\n",
    "e=int(input(\"enter the number:\"))\n",
    "avg=(a+b+c+d+e)/5\n",
    "print(\"The average is:\", avg)"
   ]
  },
  {
   "cell_type": "markdown",
   "id": "404de3d3",
   "metadata": {},
   "source": [
    "7.Write a program to calculate the discriminant of a quadratic equation."
   ]
  },
  {
   "cell_type": "code",
   "execution_count": 1,
   "id": "82bbf1ce",
   "metadata": {},
   "outputs": [
    {
     "name": "stdout",
     "output_type": "stream",
     "text": [
      "enter a:1\n",
      "enter b:5\n",
      "enter c:3\n",
      "the solution is: 13.0\n"
     ]
    }
   ],
   "source": [
    "a=float(input(\"enter a:\"))\n",
    "b=float(input(\"enter b:\"))\n",
    "c=float(input(\"enter c:\"))\n",
    "d=(b**2)-(4*a*c)\n",
    "print(\"the solution is:\", d)"
   ]
  },
  {
   "cell_type": "code",
   "execution_count": null,
   "id": "02ee3276",
   "metadata": {},
   "outputs": [],
   "source": []
  }
 ],
 "metadata": {
  "kernelspec": {
   "display_name": "Python 3 (ipykernel)",
   "language": "python",
   "name": "python3"
  },
  "language_info": {
   "codemirror_mode": {
    "name": "ipython",
    "version": 3
   },
   "file_extension": ".py",
   "mimetype": "text/x-python",
   "name": "python",
   "nbconvert_exporter": "python",
   "pygments_lexer": "ipython3",
   "version": "3.9.13"
  }
 },
 "nbformat": 4,
 "nbformat_minor": 5
}
