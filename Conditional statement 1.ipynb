{
 "cells": [
  {
   "cell_type": "markdown",
   "id": "98c1ce24",
   "metadata": {},
   "source": [
    "1.Write a program to check whether a given number is even or odd"
   ]
  },
  {
   "cell_type": "code",
   "execution_count": 1,
   "id": "2d6f30b4",
   "metadata": {},
   "outputs": [
    {
     "name": "stdout",
     "output_type": "stream",
     "text": [
      "enter the number:2\n",
      "it is an even number\n"
     ]
    }
   ],
   "source": [
    "n=int(input(\"enter the number:\"))\n",
    "if n%2==0:\n",
    "    print(\"it is an even number\")\n",
    "else:\n",
    "    print(\"it is an odd number\")"
   ]
  },
  {
   "cell_type": "markdown",
   "id": "ef1dc9c5",
   "metadata": {},
   "source": [
    "2.Write a program to check whether a given alphabet is vowel or not."
   ]
  },
  {
   "cell_type": "code",
   "execution_count": 1,
   "id": "a0b503f6",
   "metadata": {},
   "outputs": [
    {
     "name": "stdout",
     "output_type": "stream",
     "text": [
      "enter the value:e\n",
      "it is a vowel\n"
     ]
    }
   ],
   "source": [
    "x=str(input(\"enter the value:\"))\n",
    "if x=='a' or x=='e' or x=='i' or x=='o' or x=='u':\n",
    "    print(\"it is a vowel\")\n",
    "else:\n",
    "    print(\"it is consonant\")"
   ]
  },
  {
   "cell_type": "markdown",
   "id": "b64ebbc9",
   "metadata": {},
   "source": [
    "3.Write a program to check whether a person is eligible to vote or not."
   ]
  },
  {
   "cell_type": "code",
   "execution_count": 1,
   "id": "5215bc19",
   "metadata": {},
   "outputs": [
    {
     "name": "stdout",
     "output_type": "stream",
     "text": [
      "Enter the person's age:25\n",
      "Eligible to vote\n"
     ]
    }
   ],
   "source": [
    "age=int(input(\"Enter the person's age:\"))\n",
    "if age>=18:\n",
    "    print(\"Eligible to vote\")\n",
    "else:\n",
    "    print(\"Not eligible\")"
   ]
  },
  {
   "cell_type": "markdown",
   "id": "1ce89470",
   "metadata": {},
   "source": [
    "4.Write a program to check whether a given number is positive, negative or zero."
   ]
  },
  {
   "cell_type": "code",
   "execution_count": 8,
   "id": "40195e36",
   "metadata": {},
   "outputs": [
    {
     "name": "stdout",
     "output_type": "stream",
     "text": [
      "enter the number:-5\n",
      "the number is negative\n"
     ]
    }
   ],
   "source": [
    "n=int(input(\"Enter the number:\"))\n",
    "if n>0:\n",
    "    print(\"The number is positive\")\n",
    "elif n==0:\n",
    "    print(\"The number is zero\")\n",
    "else:\n",
    "    print(\"The number is negative\")\n"
   ]
  },
  {
   "cell_type": "markdown",
   "id": "84f01a4e",
   "metadata": {},
   "source": [
    "5.Write a program to check whether a given year is leap year or not."
   ]
  },
  {
   "cell_type": "code",
   "execution_count": 1,
   "id": "9a17dcf8",
   "metadata": {},
   "outputs": [
    {
     "name": "stdout",
     "output_type": "stream",
     "text": [
      "Enter the year2010\n",
      "Not a leap year\n"
     ]
    }
   ],
   "source": [
    "year=int(input(\"Enter the year\"))\n",
    "if year%400==0 or year%100!=0 and year%4==0:\n",
    "    print(\"It is a leap year\")\n",
    "else:\n",
    "    print(\"Not a leap year\")"
   ]
  },
  {
   "cell_type": "markdown",
   "id": "71f3155b",
   "metadata": {},
   "source": [
    "6. write a program to check whether a triangle is equilateral, isoceles or scalene. "
   ]
  },
  {
   "cell_type": "code",
   "execution_count": 8,
   "id": "cab445c4",
   "metadata": {},
   "outputs": [
    {
     "name": "stdout",
     "output_type": "stream",
     "text": [
      "Enter a number:2\n",
      "Enter a number:3\n",
      "Enter a number:4\n",
      "scalene triangle\n"
     ]
    }
   ],
   "source": [
    "x=int(input(\"Enter a number:\"))\n",
    "y=int(input(\"Enter a number:\"))\n",
    "z=int(input(\"Enter a number:\"))\n",
    "if x==y and y==z and x==z:\n",
    "    print(\"Equilateral triangle\")\n",
    "elif (x==y or y==z and x==z):\n",
    "     print(\"isoceles triangle\")\n",
    "else:\n",
    "     print(\"scalene triangle\")"
   ]
  },
  {
   "cell_type": "markdown",
   "id": "09bc34d1",
   "metadata": {},
   "source": [
    "7.Write a program to check whether after selling a product is profit or loss."
   ]
  },
  {
   "cell_type": "code",
   "execution_count": 1,
   "id": "939cb75e",
   "metadata": {},
   "outputs": [
    {
     "name": "stdout",
     "output_type": "stream",
     "text": [
      "enter the actual amount1600\n",
      "enter the selling amount2000\n",
      "Total profit amount=400.0\n"
     ]
    }
   ],
   "source": [
    "original_price=float(input(\"enter the actual amount\"))\n",
    "selling_price=float(input(\"enter the selling amount\"))\n",
    "if original_price-selling_price>0:\n",
    "    amount=original_price-selling_price\n",
    "    print(\"Total loss amount={0}\".format(amount))\n",
    "elif selling_price-original_price>0:\n",
    "    amount=selling_price-original_price\n",
    "    print(\"Total profit amount={0}\".format(amount))\n",
    "else:\n",
    "    print(\"no profit, no loss\")\n",
    "  "
   ]
  },
  {
   "cell_type": "code",
   "execution_count": null,
   "id": "18c61152",
   "metadata": {},
   "outputs": [],
   "source": []
  },
  {
   "cell_type": "code",
   "execution_count": null,
   "id": "b8889fba",
   "metadata": {},
   "outputs": [],
   "source": []
  }
 ],
 "metadata": {
  "kernelspec": {
   "display_name": "Python 3 (ipykernel)",
   "language": "python",
   "name": "python3"
  },
  "language_info": {
   "codemirror_mode": {
    "name": "ipython",
    "version": 3
   },
   "file_extension": ".py",
   "mimetype": "text/x-python",
   "name": "python",
   "nbconvert_exporter": "python",
   "pygments_lexer": "ipython3",
   "version": "3.9.13"
  }
 },
 "nbformat": 4,
 "nbformat_minor": 5
}
