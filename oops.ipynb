{
 "cells": [
  {
   "cell_type": "markdown",
   "id": "f18deea0",
   "metadata": {},
   "source": [
    "##### 1.Create a class called Person with attributes, name, age and gender.Define methods to get and set these attributes."
   ]
  },
  {
   "cell_type": "code",
   "execution_count": 2,
   "id": "1c6aa01d",
   "metadata": {},
   "outputs": [
    {
     "name": "stdout",
     "output_type": "stream",
     "text": [
      "Name: Vanitha Age: 26 Gender: female\n",
      "The name of the person is: Vanitha\n",
      "The given name is: Anitha\n"
     ]
    }
   ],
   "source": [
    "class Person:\n",
    "    def __init__(self,name,age,gender):\n",
    "        self.n=name\n",
    "        self.a=age\n",
    "        self.g=gender\n",
    "    def Person_details(self):\n",
    "        print(\"Name:\",self.n,\"Age:\",self.a,\"Gender:\",self.g)\n",
    "    def get(self):\n",
    "        print(\"The name of the person is:\",self.n)\n",
    "    def set(self,name):\n",
    "        self.n=\"Anitha\"\n",
    "        print(\"The given name is:\",self.n)\n",
    "p1=Person(\"Vanitha\",26,\"female\")\n",
    "p1.Person_details()\n",
    "p1.get()\n",
    "p1.set(\"Anitha\")\n"
   ]
  },
  {
   "cell_type": "markdown",
   "id": "3f7c3287",
   "metadata": {},
   "source": [
    "#### 2.Create a class called Student that inherits from Person. Add attributes such as id, major and GPA.Define mehods to get and set these attributes."
   ]
  },
  {
   "cell_type": "code",
   "execution_count": 32,
   "id": "fe6aea9c",
   "metadata": {},
   "outputs": [
    {
     "name": "stdout",
     "output_type": "stream",
     "text": [
      "student details\n",
      "Name: Vanitha Age: 26 Gender: female\n",
      "The details of the student: 1034 ECE 7.62\n",
      "1034\n",
      "The updated id is 1035\n"
     ]
    }
   ],
   "source": [
    "class Student(Person):\n",
    "    def __init__(self,name,age,gender,idno,major,gpa):\n",
    "        Person.__init__(self,name,age,gender)\n",
    "        self.idno=idno\n",
    "        self.major=major\n",
    "        self.gpa=gpa\n",
    "    \n",
    "    def Student_details(self):\n",
    "            print(\"The details of the student:\",self.idno,self.major,self.gpa)\n",
    "    \n",
    "    def get_idno(self):\n",
    "        return self.idno\n",
    "    \n",
    "    def set_idno(self,a):\n",
    "        self.idno=a\n",
    "\n",
    "s1=Student(\"Vanitha\",26,\"female\",1034,\"ECE\",7.62)\n",
    "print(\"student details\")\n",
    "s1.Person_details()\n",
    "s1.Student_details()\n",
    "print(s1.get_idno())\n",
    "s1.set_idno=1035\n",
    "print(\"The updated id is\",s1.set_idno)\n"
   ]
  },
  {
   "cell_type": "markdown",
   "id": "3229cb2b",
   "metadata": {},
   "source": [
    "#### 3. Create a class called Rectangle with attributes such as width and height. Define methods to calculate the area and perimeter of the rectangle."
   ]
  },
  {
   "cell_type": "code",
   "execution_count": 29,
   "id": "a4b75a92",
   "metadata": {},
   "outputs": [
    {
     "name": "stdout",
     "output_type": "stream",
     "text": [
      "The area of a rectangle: 30\n",
      "The area of a rectangle: 22\n"
     ]
    }
   ],
   "source": [
    "class Rectangle:\n",
    "    def __init__(self,width,height):\n",
    "        self.width=width\n",
    "        self.height=height\n",
    "    def Area(self):\n",
    "        print(\"The area of a rectangle:\",self.width*self.height)\n",
    "    def Perimeter(self):\n",
    "         print(\"The area of a rectangle:\",2*(self.width+self.height))\n",
    "    \n",
    "rec=Rectangle(5,6)\n",
    "rec.Area()\n",
    "rec.Perimeter()\n"
   ]
  },
  {
   "cell_type": "markdown",
   "id": "9af12d88",
   "metadata": {},
   "source": [
    "#### 4. Create a class called Circle with attributes such as radius.Define methods to calculate the area and circumference of the circle."
   ]
  },
  {
   "cell_type": "code",
   "execution_count": 20,
   "id": "6990b219",
   "metadata": {},
   "outputs": [
    {
     "name": "stdout",
     "output_type": "stream",
     "text": [
      "The area of a Circle: 78.5\n",
      "The circumference of a Circle is 31.40\n"
     ]
    }
   ],
   "source": [
    "class Circle:\n",
    "    def __init__(self,radius):\n",
    "        self.radius=radius\n",
    "       \n",
    "    def Area(self):\n",
    "        print(\"The area of a Circle:\",3.14*(self.radius**2))\n",
    "    def Circumference(self):\n",
    "        circumference=2*3.14*self.radius\n",
    "        print(\"The circumference of a Circle is {:.2f}\".format(circumference))\n",
    "       \n",
    "c=Circle(5)\n",
    "c.Area()\n",
    "c.Circumference()"
   ]
  },
  {
   "cell_type": "markdown",
   "id": "77690322",
   "metadata": {},
   "source": [
    "#### 5. Creat a class called BankAccount with attributes such as balance and interest_rate. Define methods to deposit, withdraw and calculate to interest on the balance."
   ]
  },
  {
   "cell_type": "code",
   "execution_count": null,
   "id": "ca52fee4",
   "metadata": {},
   "outputs": [
    {
     "name": "stdout",
     "output_type": "stream",
     "text": [
      "Enter amount to be deposited: 10000\n",
      "The deposited amount is: 10000.0\n"
     ]
    }
   ],
   "source": [
    "class BankAccount:\n",
    "    def __init__(self,balance,interest_rate):\n",
    "        self.bal = 500\n",
    "        self.interest = 0.06\n",
    "    def Deposit(self):\n",
    "        deposit_amount = float(input(\"Enter amount to be deposited: \"))\n",
    "        self.bal+= deposit_amount\n",
    "        print(\"The deposited amount is:\",deposit_amount)\n",
    "    def Withdraw(self):\n",
    "        withdraw_amount=float(input(\"Enter amount to withdraw: \"))\n",
    "        self.bal-=withdraw_amount\n",
    "        print(\"The withdrawn amount is:\",withdraw_amount)\n",
    "    def display(self):\n",
    "        print(\"Available Balance\",self.bal)\n",
    "bank=BankAccount(5000,0.6)\n",
    "bank.bal\n",
    "bank.interest\n",
    "bank.Deposit()\n",
    "bank.Withdraw()\n",
    "bank.display()\n"
   ]
  },
  {
   "cell_type": "code",
   "execution_count": null,
   "id": "e24207d7",
   "metadata": {},
   "outputs": [],
   "source": []
  },
  {
   "cell_type": "code",
   "execution_count": null,
   "id": "6a7a2e2f",
   "metadata": {},
   "outputs": [],
   "source": []
  }
 ],
 "metadata": {
  "kernelspec": {
   "display_name": "Python 3 (ipykernel)",
   "language": "python",
   "name": "python3"
  },
  "language_info": {
   "codemirror_mode": {
    "name": "ipython",
    "version": 3
   },
   "file_extension": ".py",
   "mimetype": "text/x-python",
   "name": "python",
   "nbconvert_exporter": "python",
   "pygments_lexer": "ipython3",
   "version": "3.9.13"
  }
 },
 "nbformat": 4,
 "nbformat_minor": 5
}
